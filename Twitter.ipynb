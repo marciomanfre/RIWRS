{
 "cells": [
  {
   "cell_type": "code",
   "execution_count": 1,
   "metadata": {},
   "outputs": [],
   "source": [
    "from tweepy import OAuthHandler\n",
    "from tweepy import Stream\n",
    "from tweepy.streaming import StreamListener\n",
    "import time"
   ]
  },
  {
   "cell_type": "code",
   "execution_count": 2,
   "metadata": {},
   "outputs": [],
   "source": [
    "# setup security \n",
    "access_token = '33608981-mKhTX4mZmsV9JukFO0cv0uL9XN01YdSQbQ2Fd3Nww'\n",
    "access_token_secret = 'NSq6e4dPAskD5e0CY8YGA6jzvqbuX1MCeEKB8j7gT8Agm'\n",
    "consumer_key = 't2loISOjGgqhSYPnWOkvsWSOl'\n",
    "consumer_secret = '51ptxr0TrcIirb6PKdld2g2NCkOZiw8DckvYPj1PI6qv4eNnYv'\n",
    "\n",
    "# setup file store\n",
    "file = 'C:/Users/aluno/Desktop/tweets-sample.json'"
   ]
  },
  {
   "cell_type": "code",
   "execution_count": 3,
   "metadata": {},
   "outputs": [],
   "source": [
    "class MyListener(StreamListener):\n",
    "        \n",
    "    \n",
    "    def __init__(self, file):\n",
    "        global the_file\n",
    "        self.the_file = open(file, 'w')\n",
    "        \n",
    "    def on_data(self, data):\n",
    "        self.the_file.write(data)\n",
    "        return True\n",
    "    \n",
    "    def on_error(self, status):\n",
    "        print(status)\n",
    "        \n",
    "    def file_close(self):\n",
    "        self.the_file.close()   "
   ]
  },
  {
   "cell_type": "code",
   "execution_count": 4,
   "metadata": {},
   "outputs": [
    {
     "name": "stdout",
     "output_type": "stream",
     "text": [
      "**Finish**\n"
     ]
    }
   ],
   "source": [
    "listener = MyListener(file)\n",
    "oauth = OAuthHandler(consumer_key, consumer_secret)\n",
    "oauth.set_access_token(access_token, access_token_secret)\n",
    "\n",
    "max_time = 30 # in seconds\n",
    "start_time = time.time() \n",
    "\n",
    "## collecting...\n",
    "stream = Stream(oauth, listener)\n",
    "#stream.filter(track=['copa', 'neymar', 'messi'],async=True,languages=['pt'])\n",
    "stream.filter(track=['cueva'],async=True)\n",
    "\n",
    "elapsed_time = (time.time() - start_time)\n",
    "while  elapsed_time < max_time:\n",
    "    elapsed_time = (time.time() - start_time)\n",
    "\n",
    "    \n",
    "print('**Finish**')\n",
    "stream.disconnect()\n",
    "listener.file_close()"
   ]
  },
  {
   "cell_type": "code",
   "execution_count": null,
   "metadata": {},
   "outputs": [],
   "source": []
  }
 ],
 "metadata": {
  "kernelspec": {
   "display_name": "Python 3",
   "language": "python",
   "name": "python3"
  },
  "language_info": {
   "codemirror_mode": {
    "name": "ipython",
    "version": 3
   },
   "file_extension": ".py",
   "mimetype": "text/x-python",
   "name": "python",
   "nbconvert_exporter": "python",
   "pygments_lexer": "ipython3",
   "version": "3.6.5"
  }
 },
 "nbformat": 4,
 "nbformat_minor": 2
}
